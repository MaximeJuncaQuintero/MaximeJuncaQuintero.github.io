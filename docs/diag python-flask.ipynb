{
 "cells": [
  {
   "cell_type": "code",
   "execution_count": 2,
   "id": "5d5d6cee",
   "metadata": {},
   "outputs": [],
   "source": [
    "from flask import Flask, render_template, request\n",
    "import threading\n",
    "\n",
    "app = Flask(__name__)\n",
    "\n",
    "#'/' correspond à l'URL\n",
    "\n",
    "@app.route('/')\n",
    "def home():\n",
    "    return render_template('home1.txt')\n",
    "@app.route('/quiz')\n",
    "def show_quiz():\n",
    "    return render_template('quiz1.txt')\n",
    "@app.route('/submit', methods=['GET', 'POST'])\n",
    "def submit_quiz():\n",
    "    if request.method == 'POST':\n",
    "        total_score = 0\n",
    "        #code to calculate total_score\n",
    "        questions = {\n",
    "            1: {\"a\": 1, \"b\": 4, \"c\": 7},\n",
    "            2: {\"a\": 1, \"b\": 4, \"c\": 7},\n",
    "            3: {\"a\": 1, \"b\": 4, \"c\": 7},\n",
    "            4: {\"a\": 1, \"b\": 4, \"c\": 7}, \n",
    "            5: {\"a\": 1, \"b\": 4, \"c\": 7},\n",
    "            6: {\"a\": 1, \"b\": 4, \"c\": 7},\n",
    "            7: {\"a\": 1, \"b\": 4, \"c\": 7},\n",
    "            8: {\"a\": 1, \"b\": 4, \"c\": 7},\n",
    "            9: {\"a\": 1, \"b\": 4, \"c\": 7},\n",
    "            10: {\"a\": 1, \"b\": 4, \"c\": 7},\n",
    "            11: {\"a\": 1, \"b\": 4, \"c\": 7},\n",
    "            12: {\"a\": 1, \"b\": 4, \"c\": 7}\n",
    "        }\n",
    "\n",
    "        for q_num in questions:\n",
    "            response = request.form.get(f'question{q_num}')\n",
    "            total_score += questions[q_num].get(response, 0)\n",
    "\n",
    "        # Determine the score range\n",
    "        if 17 <= total_score <= 34:\n",
    "            score_range = \"Score faible\"\n",
    "        elif 35 <= total_score <= 51:\n",
    "            score_range = \"Score moyen\"\n",
    "        elif 52 <= total_score <= 68:\n",
    "            score_range = \"Score fort\"\n",
    "        elif 69 <= total_score <= 85:\n",
    "            score_range = \"Score très fort\"\n",
    "        else:\n",
    "            score_range = \"Score non classifiable\"\n",
    "        # Capture the investment capacity\n",
    "        investment_capacity = request.form.get('investment')\n",
    "        \n",
    "\n",
    "        return render_template('results1.txt', score=total_score, score_range=score_range, investment=investment_capacity)\n",
    "    return render_template('quiz1.txt')\n",
    "\n",
    "def run_app():\n",
    "    app.run(use_reloader=False, debug=True)\n",
    "\n",
    "#to run\n",
    "#flask_thread = threading.Thread(target=run_app)\n",
    "#flask_thread.start()"
   ]
  },
  {
   "cell_type": "code",
   "execution_count": 3,
   "id": "d7912d8c",
   "metadata": {},
   "outputs": [
    {
     "name": "stdout",
     "output_type": "stream",
     "text": [
      " * Serving Flask app '__main__'\n",
      " * Debug mode: on\n"
     ]
    },
    {
     "name": "stderr",
     "output_type": "stream",
     "text": [
      "WARNING: This is a development server. Do not use it in a production deployment. Use a production WSGI server instead.\n",
      " * Running on http://127.0.0.1:5000\n",
      "Press CTRL+C to quit\n",
      "127.0.0.1 - - [12/Jan/2024 16:43:15] \"GET / HTTP/1.1\" 200 -\n",
      "127.0.0.1 - - [12/Jan/2024 16:43:15] \"GET /static/css/styles.css HTTP/1.1\" 200 -\n",
      "127.0.0.1 - - [12/Jan/2024 16:43:16] \"GET /favicon.ico HTTP/1.1\" 404 -\n",
      "127.0.0.1 - - [12/Jan/2024 16:43:20] \"GET /quiz HTTP/1.1\" 200 -\n",
      "127.0.0.1 - - [12/Jan/2024 16:43:20] \"GET /static/css/styles.css HTTP/1.1\" 304 -\n",
      "127.0.0.1 - - [12/Jan/2024 16:47:48] \"POST /submit HTTP/1.1\" 200 -\n",
      "127.0.0.1 - - [12/Jan/2024 16:47:48] \"GET /static/css/styles.css HTTP/1.1\" 304 -\n"
     ]
    }
   ],
   "source": [
    "flask_thread = threading.Thread(target=run_app)\n",
    "flask_thread.start()"
   ]
  },
  {
   "cell_type": "code",
   "execution_count": null,
   "id": "7001e1b2",
   "metadata": {},
   "outputs": [],
   "source": []
  }
 ],
 "metadata": {
  "kernelspec": {
   "display_name": "Python 3 (ipykernel)",
   "language": "python",
   "name": "python3"
  },
  "language_info": {
   "codemirror_mode": {
    "name": "ipython",
    "version": 3
   },
   "file_extension": ".py",
   "mimetype": "text/x-python",
   "name": "python",
   "nbconvert_exporter": "python",
   "pygments_lexer": "ipython3",
   "version": "3.11.4"
  }
 },
 "nbformat": 4,
 "nbformat_minor": 5
}
